{
 "cells": [
  {
   "cell_type": "code",
   "execution_count": 1,
   "metadata": {},
   "outputs": [],
   "source": [
    "import numpy as np\n",
    "import pandas as pd\n",
    "\n",
    "from tensorflow.keras.models import Sequential\n",
    "from tensorflow.keras.layers import LSTM, RepeatVector, Dense, TimeDistributed\n",
    "from tensorflow.keras.optimizers import RMSprop\n",
    "\n",
    "from sklearn.preprocessing import MinMaxScaler\n",
    "\n",
    "import matplotlib.pyplot as plt"
   ]
  },
  {
   "cell_type": "markdown",
   "metadata": {},
   "source": [
    "### Import Data"
   ]
  },
  {
   "cell_type": "code",
   "execution_count": 2,
   "metadata": {},
   "outputs": [],
   "source": [
    "df = pd.read_csv(r'.\\data\\stock_prices_sample.csv')\n",
    "df = df[df.TICKER != 'GEF']\n",
    "df = df[df.TYPE != 'Intraday']\n",
    "df.reset_index(drop = True, inplace =True)"
   ]
  },
  {
   "cell_type": "markdown",
   "metadata": {},
   "source": [
    "### Defining Inputs"
   ]
  },
  {
   "cell_type": "code",
   "execution_count": 3,
   "metadata": {},
   "outputs": [],
   "source": [
    "TRAIN_SPLIT=700\n",
    "\n",
    "LOOK_BACK_WINDOW = 180\n",
    "NUM_OF_FUTURE_PREDICTION = 90\n",
    "\n",
    "\n",
    "BATCH_SIZE = 256\n",
    "EPOCHS = 100\n",
    "EVALUATION_INTERVAL = 20\n",
    "VALIDATION_INTERVAL = 10"
   ]
  },
  {
   "cell_type": "markdown",
   "metadata": {},
   "source": [
    "### Data preprocessing"
   ]
  },
  {
   "cell_type": "code",
   "execution_count": 4,
   "metadata": {},
   "outputs": [],
   "source": [
    "input_features_considered = [\"OPEN\", \"HIGH\", \"LOW\", \"CLOSE\"]\n",
    "input_features = df[input_features_considered]\n",
    "input_data = input_features.values\n",
    "# normalize the dataset\n",
    "input_scaler = MinMaxScaler(feature_range=(0, 1))\n",
    "dataset = input_scaler.fit_transform(input_data)"
   ]
  },
  {
   "cell_type": "code",
   "execution_count": 5,
   "metadata": {},
   "outputs": [],
   "source": [
    "output_features_considered = [\"OPEN\", \"CLOSE\"]\n",
    "output_features = df[output_features_considered]\n",
    "target_data = output_features.values\n",
    "# normalize the dataset\n",
    "output_scaler = MinMaxScaler(feature_range=(0, 1))\n",
    "target = output_scaler.fit_transform(target_data)\n"
   ]
  },
  {
   "cell_type": "code",
   "execution_count": 6,
   "metadata": {},
   "outputs": [],
   "source": [
    "def multivariate_data(dataset, target, start_index, end_index, history_size, target_size):\n",
    "    data = []\n",
    "    labels = []\n",
    "    start_index = start_index + history_size\n",
    "    if end_index is None:\n",
    "        end_index = len(dataset) - target_size\n",
    "    for i in range(start_index, end_index):\n",
    "        indices = range(i-history_size, i)\n",
    "        data.append(dataset[indices])\n",
    "        labels.append(target[i:i+target_size])\n",
    "    return np.array(data), np.array(labels)"
   ]
  },
  {
   "cell_type": "code",
   "execution_count": 7,
   "metadata": {},
   "outputs": [
    {
     "name": "stdout",
     "output_type": "stream",
     "text": [
      "shape of x_train: (520, 180, 4)\n",
      "shape of y_train: (520, 90, 2)\n",
      "shape of x_val: (25, 180, 4)\n",
      "shape of y_val: (25, 90, 2)\n"
     ]
    }
   ],
   "source": [
    "x_train, y_train = multivariate_data(dataset=dataset\n",
    "                                     , target=target\n",
    "                                     , start_index=0\n",
    "                                     , end_index=TRAIN_SPLIT\n",
    "                                     , history_size=LOOK_BACK_WINDOW\n",
    "                                     , target_size=NUM_OF_FUTURE_PREDICTION)\n",
    "\n",
    "x_val, y_val = multivariate_data(dataset=dataset\n",
    "                                 , target=target\n",
    "                                 , start_index=TRAIN_SPLIT\n",
    "                                 , end_index=None\n",
    "                                 , history_size=LOOK_BACK_WINDOW\n",
    "                                 , target_size=NUM_OF_FUTURE_PREDICTION)\n",
    "\n",
    "print(\"shape of x_train:\", x_train.shape)\n",
    "print(\"shape of y_train:\", y_train.shape)\n",
    "print(\"shape of x_val:\", x_val.shape)\n",
    "print(\"shape of y_val:\", y_val.shape)"
   ]
  },
  {
   "cell_type": "markdown",
   "metadata": {},
   "source": [
    "### RNN LSTM Encoder & Decoder Network"
   ]
  },
  {
   "cell_type": "code",
   "execution_count": 8,
   "metadata": {},
   "outputs": [
    {
     "name": "stdout",
     "output_type": "stream",
     "text": [
      "WARNING:tensorflow:From C:\\Users\\smrut\\Anaconda3\\lib\\site-packages\\tensorflow_core\\python\\ops\\resource_variable_ops.py:1630: calling BaseResourceVariable.__init__ (from tensorflow.python.ops.resource_variable_ops) with constraint is deprecated and will be removed in a future version.\n",
      "Instructions for updating:\n",
      "If using Keras pass *_constraint arguments to layers.\n"
     ]
    }
   ],
   "source": [
    "model = Sequential()\n",
    "model.add(LSTM(200, activation='relu', input_shape=x_train.shape[-2:]))\n",
    "model.add(RepeatVector(y_train.shape[1]))\n",
    "model.add(LSTM(200, activation='relu', return_sequences=True))\n",
    "model.add(TimeDistributed(Dense(100, activation='relu')))\n",
    "model.add(TimeDistributed(Dense(y_train.shape[2])))\n",
    "\n",
    "model.compile(optimizer=RMSprop(clipvalue=1.0), loss='mse')"
   ]
  },
  {
   "cell_type": "markdown",
   "metadata": {},
   "source": [
    "### Model Trining"
   ]
  },
  {
   "cell_type": "code",
   "execution_count": 9,
   "metadata": {
    "scrolled": true
   },
   "outputs": [
    {
     "name": "stdout",
     "output_type": "stream",
     "text": [
      "WARNING:tensorflow:From C:\\Users\\smrut\\Anaconda3\\lib\\site-packages\\tensorflow_core\\python\\ops\\math_grad.py:1424: where (from tensorflow.python.ops.array_ops) is deprecated and will be removed in a future version.\n",
      "Instructions for updating:\n",
      "Use tf.where in 2.0, which has the same broadcast rule as np.where\n",
      "Train on 520 samples, validate on 25 samples\n",
      "Epoch 1/100\n",
      "520/520 [==============================] - 16s 30ms/sample - loss: 0.0238 - val_loss: 0.0433\n",
      "Epoch 2/100\n",
      "520/520 [==============================] - 14s 28ms/sample - loss: 0.0097 - val_loss: 0.0329\n",
      "Epoch 3/100\n",
      "520/520 [==============================] - 14s 28ms/sample - loss: 0.0106 - val_loss: 0.0175\n",
      "Epoch 4/100\n",
      "520/520 [==============================] - 14s 27ms/sample - loss: 0.0104 - val_loss: 0.0595\n",
      "Epoch 5/100\n",
      "520/520 [==============================] - 14s 27ms/sample - loss: 0.0089 - val_loss: 0.0378\n",
      "Epoch 6/100\n",
      "520/520 [==============================] - 14s 27ms/sample - loss: 0.0118 - val_loss: 0.0443\n",
      "Epoch 7/100\n",
      "520/520 [==============================] - 14s 27ms/sample - loss: 0.0087 - val_loss: 0.0595\n",
      "Epoch 8/100\n",
      "520/520 [==============================] - 14s 27ms/sample - loss: 0.0084 - val_loss: 0.0228\n",
      "Epoch 9/100\n",
      "520/520 [==============================] - 13s 25ms/sample - loss: 0.0084 - val_loss: 0.0229\n",
      "Epoch 10/100\n",
      "520/520 [==============================] - 14s 27ms/sample - loss: 0.0086 - val_loss: 0.0252\n",
      "Epoch 11/100\n",
      "520/520 [==============================] - 14s 27ms/sample - loss: 0.0089 - val_loss: 0.0310\n",
      "Epoch 12/100\n",
      "520/520 [==============================] - 14s 27ms/sample - loss: 0.0079 - val_loss: 0.0795\n",
      "Epoch 13/100\n",
      "520/520 [==============================] - 14s 27ms/sample - loss: 0.0077 - val_loss: 0.0293\n",
      "Epoch 14/100\n",
      "520/520 [==============================] - 14s 27ms/sample - loss: 0.0078 - val_loss: 0.0497\n",
      "Epoch 15/100\n",
      "520/520 [==============================] - 14s 27ms/sample - loss: 0.0081 - val_loss: 0.0251\n",
      "Epoch 16/100\n",
      "520/520 [==============================] - 14s 28ms/sample - loss: 0.0076 - val_loss: 0.0325\n",
      "Epoch 17/100\n",
      "520/520 [==============================] - 13s 26ms/sample - loss: 0.0073 - val_loss: 0.0605\n",
      "Epoch 18/100\n",
      "520/520 [==============================] - 16s 30ms/sample - loss: 0.0074 - val_loss: 0.0195\n",
      "Epoch 19/100\n",
      "520/520 [==============================] - 14s 28ms/sample - loss: 0.0071 - val_loss: 0.0399\n",
      "Epoch 20/100\n",
      "520/520 [==============================] - 15s 28ms/sample - loss: 0.0077 - val_loss: 0.0342\n",
      "Epoch 21/100\n",
      "520/520 [==============================] - 14s 28ms/sample - loss: 0.0070 - val_loss: 0.0405\n",
      "Epoch 22/100\n",
      "520/520 [==============================] - 14s 28ms/sample - loss: 0.0073 - val_loss: 0.0465\n",
      "Epoch 23/100\n",
      "520/520 [==============================] - 14s 28ms/sample - loss: 0.0075 - val_loss: 0.0851\n",
      "Epoch 24/100\n",
      "520/520 [==============================] - 15s 28ms/sample - loss: 0.0074 - val_loss: 0.0296\n",
      "Epoch 25/100\n",
      "520/520 [==============================] - 15s 28ms/sample - loss: 0.0066 - val_loss: 0.0189\n",
      "Epoch 26/100\n",
      "520/520 [==============================] - 15s 28ms/sample - loss: 11.4201 - val_loss: 0.0469\n",
      "Epoch 27/100\n",
      "520/520 [==============================] - 15s 30ms/sample - loss: 0.0061 - val_loss: 0.0295\n",
      "Epoch 28/100\n",
      "520/520 [==============================] - 14s 26ms/sample - loss: 0.0062 - val_loss: 0.0252\n",
      "Epoch 29/100\n",
      "520/520 [==============================] - 15s 28ms/sample - loss: 0.0057 - val_loss: 0.0458\n",
      "Epoch 30/100\n",
      "520/520 [==============================] - 15s 28ms/sample - loss: 739.2782 - val_loss: 0.0310\n",
      "Epoch 31/100\n",
      "520/520 [==============================] - 15s 28ms/sample - loss: 576782747364.4369 - val_loss: 0.0321\n",
      "Epoch 32/100\n",
      "520/520 [==============================] - 15s 28ms/sample - loss: 0.0063 - val_loss: 0.0407\n",
      "Epoch 33/100\n",
      "520/520 [==============================] - 15s 29ms/sample - loss: 0.0060 - val_loss: 0.0360\n",
      "Epoch 34/100\n",
      "520/520 [==============================] - 15s 29ms/sample - loss: 0.0056 - val_loss: 0.0393\n",
      "Epoch 35/100\n",
      "520/520 [==============================] - 15s 29ms/sample - loss: 1343056624996541.0000 - val_loss: 0.0449\n",
      "Epoch 36/100\n",
      "520/520 [==============================] - 15s 29ms/sample - loss: 0.0061 - val_loss: 0.0412\n",
      "Epoch 37/100\n",
      "520/520 [==============================] - 15s 29ms/sample - loss: 0.0059 - val_loss: 0.0321\n",
      "Epoch 38/100\n",
      "520/520 [==============================] - 15s 29ms/sample - loss: 0.0060 - val_loss: 0.0433\n",
      "Epoch 39/100\n",
      "520/520 [==============================] - 15s 29ms/sample - loss: 0.0059 - val_loss: 0.0384\n",
      "Epoch 40/100\n",
      "520/520 [==============================] - 16s 30ms/sample - loss: 356870728607018059552522240.0000 - val_loss: 9223248896.0000\n",
      "Epoch 41/100\n",
      "520/520 [==============================] - 15s 30ms/sample - loss: 2951219786.2116 - val_loss: 0.0396\n",
      "Epoch 42/100\n",
      "520/520 [==============================] - 16s 30ms/sample - loss: 0.0076 - val_loss: 0.0358\n",
      "Epoch 43/100\n",
      "520/520 [==============================] - 15s 28ms/sample - loss: 0.0070 - val_loss: 0.0303\n",
      "Epoch 44/100\n",
      "520/520 [==============================] - 14s 27ms/sample - loss: 0.0067 - val_loss: 0.0411\n",
      "Epoch 45/100\n",
      "520/520 [==============================] - 14s 28ms/sample - loss: 0.0063 - val_loss: 0.0658\n",
      "Epoch 46/100\n",
      "520/520 [==============================] - 15s 28ms/sample - loss: 0.0064 - val_loss: 0.0346\n",
      "Epoch 47/100\n",
      "520/520 [==============================] - 15s 29ms/sample - loss: 0.0065 - val_loss: 0.0676\n",
      "Epoch 48/100\n",
      "520/520 [==============================] - 15s 29ms/sample - loss: 0.0067 - val_loss: 0.0280\n",
      "Epoch 49/100\n",
      "520/520 [==============================] - 15s 29ms/sample - loss: 0.0072 - val_loss: 0.0145\n",
      "Epoch 50/100\n",
      "520/520 [==============================] - 15s 29ms/sample - loss: 0.0071 - val_loss: 0.0698\n",
      "Epoch 51/100\n",
      "520/520 [==============================] - 16s 30ms/sample - loss: 0.0063 - val_loss: 0.0303\n",
      "Epoch 52/100\n",
      "520/520 [==============================] - 15s 29ms/sample - loss: 0.0069 - val_loss: 0.0671\n",
      "Epoch 53/100\n",
      "520/520 [==============================] - 20s 39ms/sample - loss: 0.0061 - val_loss: 0.0202\n",
      "Epoch 54/100\n",
      "520/520 [==============================] - 17s 33ms/sample - loss: 0.0061 - val_loss: 0.0281\n",
      "Epoch 55/100\n",
      "520/520 [==============================] - 17s 32ms/sample - loss: 0.0083 - val_loss: 0.0437\n",
      "Epoch 56/100\n",
      "520/520 [==============================] - 19s 37ms/sample - loss: 30261986954687329622556672.0000 - val_loss: 0.0360\n",
      "Epoch 57/100\n",
      "520/520 [==============================] - 18s 34ms/sample - loss: 0.0057 - val_loss: 0.0395\n",
      "Epoch 58/100\n",
      "520/520 [==============================] - 18s 34ms/sample - loss: 0.0053 - val_loss: 0.0342\n",
      "Epoch 59/100\n",
      "520/520 [==============================] - 17s 33ms/sample - loss: 0.0051 - val_loss: 0.0154\n",
      "Epoch 60/100\n",
      "520/520 [==============================] - 18s 34ms/sample - loss: 155505301.6667 - val_loss: 0.0531\n",
      "Epoch 61/100\n",
      "520/520 [==============================] - 18s 34ms/sample - loss: 0.0062 - val_loss: 0.0452\n",
      "Epoch 62/100\n",
      "520/520 [==============================] - 18s 34ms/sample - loss: 0.0056 - val_loss: 0.0465\n",
      "Epoch 63/100\n",
      "520/520 [==============================] - 18s 34ms/sample - loss: 0.0055 - val_loss: 0.0334\n",
      "Epoch 64/100\n",
      "520/520 [==============================] - 17s 33ms/sample - loss: 0.0053 - val_loss: 0.0559\n",
      "Epoch 65/100\n",
      "520/520 [==============================] - 18s 34ms/sample - loss: 0.0052 - val_loss: 0.0815\n",
      "Epoch 66/100\n",
      "520/520 [==============================] - 19s 37ms/sample - loss: 2244455551761927.7500 - val_loss: 0.0401\n",
      "Epoch 67/100\n",
      "520/520 [==============================] - 19s 37ms/sample - loss: 0.0050 - val_loss: 0.0373\n",
      "Epoch 68/100\n",
      "520/520 [==============================] - 18s 35ms/sample - loss: 0.0046 - val_loss: 0.0587\n",
      "Epoch 69/100\n",
      "520/520 [==============================] - 18s 35ms/sample - loss: 0.0042 - val_loss: 0.0702\n",
      "Epoch 70/100\n",
      "520/520 [==============================] - 20s 38ms/sample - loss: 22403.7904 - val_loss: 0.0330\n",
      "Epoch 71/100\n",
      "520/520 [==============================] - 19s 37ms/sample - loss: 0.0054 - val_loss: 0.0270\n",
      "Epoch 72/100\n",
      "520/520 [==============================] - 19s 36ms/sample - loss: 0.0052 - val_loss: 0.0521\n",
      "Epoch 73/100\n",
      "520/520 [==============================] - 18s 35ms/sample - loss: 0.0053 - val_loss: 0.0495\n"
     ]
    },
    {
     "name": "stdout",
     "output_type": "stream",
     "text": [
      "Epoch 74/100\n",
      "520/520 [==============================] - 19s 36ms/sample - loss: 0.0050 - val_loss: 0.0146\n",
      "Epoch 75/100\n",
      "520/520 [==============================] - 18s 35ms/sample - loss: 0.0075 - val_loss: 0.0321\n",
      "Epoch 76/100\n",
      "520/520 [==============================] - 19s 36ms/sample - loss: 0.0053 - val_loss: 0.0363\n",
      "Epoch 77/100\n",
      "520/520 [==============================] - 20s 38ms/sample - loss: 0.0050 - val_loss: 0.0342\n",
      "Epoch 78/100\n",
      "520/520 [==============================] - 19s 36ms/sample - loss: 0.0049 - val_loss: 0.0768\n",
      "Epoch 79/100\n",
      "520/520 [==============================] - 19s 36ms/sample - loss: 0.0053 - val_loss: 0.0424\n",
      "Epoch 80/100\n",
      "520/520 [==============================] - 19s 36ms/sample - loss: 0.0045 - val_loss: 0.0877\n",
      "Epoch 81/100\n",
      "520/520 [==============================] - 19s 37ms/sample - loss: 0.0052 - val_loss: 0.0578\n",
      "Epoch 82/100\n",
      "520/520 [==============================] - 20s 39ms/sample - loss: 0.0052 - val_loss: 0.0451\n",
      "Epoch 83/100\n",
      "520/520 [==============================] - 19s 37ms/sample - loss: 0.0049 - val_loss: 0.0520\n",
      "Epoch 84/100\n",
      "520/520 [==============================] - 20s 38ms/sample - loss: 0.0046 - val_loss: 0.0483\n",
      "Epoch 85/100\n",
      "520/520 [==============================] - 19s 37ms/sample - loss: 0.0042 - val_loss: 0.0289\n",
      "Epoch 86/100\n",
      "520/520 [==============================] - 22s 42ms/sample - loss: 0.0040 - val_loss: 0.0421\n",
      "Epoch 87/100\n",
      "520/520 [==============================] - 18s 35ms/sample - loss: 0.0047 - val_loss: 0.0460\n",
      "Epoch 88/100\n",
      "520/520 [==============================] - 19s 36ms/sample - loss: 0.0046 - val_loss: 0.0612\n",
      "Epoch 89/100\n",
      "520/520 [==============================] - 19s 36ms/sample - loss: 0.0034 - val_loss: 0.0313\n",
      "Epoch 90/100\n",
      "520/520 [==============================] - 19s 36ms/sample - loss: 0.0040 - val_loss: 0.0414\n",
      "Epoch 91/100\n",
      "520/520 [==============================] - 19s 36ms/sample - loss: 0.0038 - val_loss: 0.0390\n",
      "Epoch 92/100\n",
      "520/520 [==============================] - 20s 38ms/sample - loss: 0.0037 - val_loss: 0.0307\n",
      "Epoch 93/100\n",
      "520/520 [==============================] - 19s 37ms/sample - loss: 0.0036 - val_loss: 0.0259\n",
      "Epoch 94/100\n",
      "520/520 [==============================] - 19s 37ms/sample - loss: 0.0038 - val_loss: 0.0283\n",
      "Epoch 95/100\n",
      "520/520 [==============================] - 20s 38ms/sample - loss: 0.0037 - val_loss: 0.0646\n",
      "Epoch 96/100\n",
      "520/520 [==============================] - 20s 39ms/sample - loss: 0.0035 - val_loss: 0.0755\n",
      "Epoch 97/100\n",
      "520/520 [==============================] - 20s 38ms/sample - loss: 0.0035 - val_loss: 0.0355\n",
      "Epoch 98/100\n",
      "520/520 [==============================] - 20s 38ms/sample - loss: nan - val_loss: nan\n",
      "Epoch 99/100\n",
      "520/520 [==============================] - 20s 38ms/sample - loss: nan - val_loss: nan\n",
      "Epoch 100/100\n",
      "520/520 [==============================] - 21s 40ms/sample - loss: nan - val_loss: nan\n"
     ]
    }
   ],
   "source": [
    "model_history = model.fit(x=x_train, y=y_train\n",
    "                          , epochs=EPOCHS\n",
    "                          , validation_data=(x_val, y_val))"
   ]
  },
  {
   "cell_type": "markdown",
   "metadata": {},
   "source": [
    "### Train & CV Error (curve by epoch)"
   ]
  },
  {
   "cell_type": "code",
   "execution_count": 10,
   "metadata": {},
   "outputs": [
    {
     "data": {
      "image/png": "[encoded data removed]",
      "text/plain": [
       "<Figure size 432x288 with 1 Axes>"
      ]
     },
     "metadata": {
      "needs_background": "light"
     },
     "output_type": "display_data"
    }
   ],
   "source": [
    "def plot_train_history(history, title):\n",
    "    loss = history.history['loss'][5:]\n",
    "    val_loss = history.history['val_loss'][5:]\n",
    "    epochs = range(len(loss))\n",
    "    plt.figure()\n",
    "    plt.plot(epochs, loss, 'b', label='Training loss')\n",
    "    plt.plot(epochs, val_loss, 'r', label='Validation loss')\n",
    "    plt.title(title)\n",
    "    plt.legend()\n",
    "    plt.show()\n",
    "\n",
    "plot_train_history(model_history, 'Multi-Step Training and validation loss')\n"
   ]
  },
  {
   "cell_type": "markdown",
   "metadata": {},
   "source": [
    "### Model Summary"
   ]
  },
  {
   "cell_type": "code",
   "execution_count": 11,
   "metadata": {},
   "outputs": [
    {
     "name": "stdout",
     "output_type": "stream",
     "text": [
      "Model: \"sequential\"\n",
      "_________________________________________________________________\n",
      "Layer (type)                 Output Shape              Param #   \n",
      "=================================================================\n",
      "lstm (LSTM)                  (None, 200)               164000    \n",
      "_________________________________________________________________\n",
      "repeat_vector (RepeatVector) (None, 90, 200)           0         \n",
      "_________________________________________________________________\n",
      "lstm_1 (LSTM)                (None, 90, 200)           320800    \n",
      "_________________________________________________________________\n",
      "time_distributed (TimeDistri (None, 90, 100)           20100     \n",
      "_________________________________________________________________\n",
      "time_distributed_1 (TimeDist (None, 90, 2)             202       \n",
      "=================================================================\n",
      "Total params: 505,102\n",
      "Trainable params: 505,102\n",
      "Non-trainable params: 0\n",
      "_________________________________________________________________\n"
     ]
    }
   ],
   "source": [
    "model.summary()"
   ]
  },
  {
   "cell_type": "markdown",
   "metadata": {},
   "source": [
    "### Prediction"
   ]
  },
  {
   "cell_type": "code",
   "execution_count": null,
   "metadata": {},
   "outputs": [],
   "source": [
    "data_predict = dataset[-90:,:]\n",
    "data_predict = data_predict.reshape((1, data_predict.shape[0], data_predict.shape[1]))\n",
    "data_extrapolated = output_scaler.inverse_transform(model.predict(data_predict)[0])"
   ]
  },
  {
   "cell_type": "code",
   "execution_count": null,
   "metadata": {},
   "outputs": [],
   "source": [
    "layout = (1,2)\n",
    "plt.figure(figsize=(17, 8))\n",
    "plt.subplot2grid(layout, (0,0))\n",
    "plt.plot(input_data[:,[0,3]], label='training data model')\n",
    "plt.axis([0, 995, 10, 25])\n",
    "plt.legend()\n",
    "plt.grid(True)\n",
    "plt.title('Actual')\n",
    "plt.subplot2grid(layout, (0,1))\n",
    "plt.plot(data_extrapolated, label='testing data model')\n",
    "plt.title('Forecast')\n",
    "plt.axis([0, 995, 10, 25])\n",
    "plt.legend()\n",
    "plt.grid(True);"
   ]
  }
 ],
 "metadata": {
  "kernelspec": {
   "display_name": "Python 3",
   "language": "python",
   "name": "python3"
  },
  "language_info": {
   "codemirror_mode": {
    "name": "ipython",
    "version": 3
   },
   "file_extension": ".py",
   "mimetype": "text/x-python",
   "name": "python",
   "nbconvert_exporter": "python",
   "pygments_lexer": "ipython3",
   "version": "3.7.4"
  }
 },
 "nbformat": 4,
 "nbformat_minor": 2
}
